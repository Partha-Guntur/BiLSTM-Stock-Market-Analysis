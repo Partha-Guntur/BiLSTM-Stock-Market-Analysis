{
  "cells": [
    {
      "cell_type": "markdown",
      "metadata": {
        "id": "cl5GmRkAvwAD"
      },
      "source": [
        "# Importing the Data"
      ]
    },
    {
      "cell_type": "code",
      "execution_count": 1,
      "metadata": {
        "colab": {
          "base_uri": "https://localhost:8080/"
        },
        "id": "eqrdzrJhRRDM",
        "outputId": "aa3df261-5f87-4d74-fbf7-cabdac91d186"
      },
      "outputs": [
        {
          "name": "stdout",
          "output_type": "stream",
          "text": [
            "[*********************100%%**********************]  1 of 1 completed\n"
          ]
        }
      ],
      "source": [
        "import pandas as pd\n",
        "import yfinance as yf\n",
        "import matplotlib.pyplot as plt\n",
        "\n",
        "# Fetch historical market data for the last 5 years\n",
        "nifty50_data = yf.download(\"^NSEI\", period=\"5y\")"
      ]
    },
    {
      "cell_type": "code",
      "execution_count": 2,
      "metadata": {},
      "outputs": [],
      "source": [
        "nifty50_data['Yearly Return'] = nifty50_data['Close'].pct_change(periods=252) * 100\n",
        "nifty50_data['50-Day MA'] = nifty50_data['Close'].rolling(window=50).mean()\n",
        "nifty50_data['200-Day MA'] = nifty50_data['Close'].rolling(window=200).mean()"
      ]
    },
    {
      "cell_type": "code",
      "execution_count": 9,
      "metadata": {
        "colab": {
          "base_uri": "https://localhost:8080/",
          "height": 564
        },
        "id": "y7cBc_7nscBT",
        "outputId": "1f8f38c2-b6a8-463e-b84a-473928af4994"
      },
      "outputs": [],
      "source": [
        "# # Perform a simple analysis - plot the closing prices over time\n",
        "# plt.figure(figsize=(12, 6))\n",
        "# plt.plot(nifty50_data.index, nifty50_data['Close'], label='Nifty50 Closing Price')\n",
        "# plt.title('Nifty50 Closing Prices Over Last 5 Years')\n",
        "# plt.xlabel('Date')\n",
        "# plt.ylabel('Closing Price (INR)')\n",
        "# plt.legend()\n",
        "# plt.grid(True)\n",
        "# plt.show()"
      ]
    },
    {
      "cell_type": "code",
      "execution_count": 10,
      "metadata": {
        "colab": {
          "base_uri": "https://localhost:8080/",
          "height": 564
        },
        "id": "lASO_VI2GM9f",
        "outputId": "c0df0cee-9654-4a2d-c098-78d65accdb40"
      },
      "outputs": [],
      "source": [
        "# # Moving Average Graph\n",
        "\n",
        "# plt.figure(figsize=(12, 6))\n",
        "# plt.plot(nifty50_data.index, nifty50_data['Close'], label='Nifty50 Closing Price')\n",
        "# plt.plot(nifty50_data.index, nifty50_data['50-Day MA'], label='50-Day Moving Average')\n",
        "# plt.plot(nifty50_data.index, nifty50_data['200-Day MA'], label='200-Day Moving Average')\n",
        "# plt.title('Nifty50 Closing Prices with 50-Day and 200-Day Moving Averages')\n",
        "# plt.xlabel('Date')\n",
        "# plt.ylabel('Closing Price (INR)')\n",
        "# plt.legend()\n",
        "# plt.grid(True)\n",
        "# plt.show()"
      ]
    },
    {
      "cell_type": "code",
      "execution_count": 11,
      "metadata": {},
      "outputs": [],
      "source": [
        "# # Yearly Returns Graph\n",
        "\n",
        "# plt.figure(figsize=(12, 6))\n",
        "# plt.plot(nifty50_data.index, nifty50_data['Yearly Return'], label='Nifty50 Yearly Return')\n",
        "# plt.title('Nifty50 Yearly Returns Over Last 5 Years')\n",
        "# plt.xlabel('Date')\n",
        "# plt.ylabel('Yearly Return (%)')\n",
        "# plt.legend()\n",
        "# plt.grid(True)\n",
        "# plt.show()"
      ]
    },
    {
      "cell_type": "markdown",
      "metadata": {
        "id": "T_tZOJMbvqIi"
      },
      "source": [
        "## Cleaning and Pre processing"
      ]
    },
    {
      "cell_type": "code",
      "execution_count": 6,
      "metadata": {
        "id": "bMd6BuFot2xY"
      },
      "outputs": [],
      "source": [
        "if 'Dividends' in nifty50_data.columns and 'Stock Splits' in nifty50_data.columns:\n",
        "    nifty50_data = nifty50_data.drop(columns=['Dividends', 'Stock Splits'])"
      ]
    },
    {
      "cell_type": "code",
      "execution_count": 7,
      "metadata": {
        "colab": {
          "base_uri": "https://localhost:8080/"
        },
        "id": "NC56cnJ2xUyn",
        "outputId": "6930091d-5c16-4f85-ce5a-25f96a35a3ce"
      },
      "outputs": [
        {
          "data": {
            "text/plain": [
              "Open               0\n",
              "High               0\n",
              "Low                0\n",
              "Close              0\n",
              "Adj Close          0\n",
              "Volume             0\n",
              "Yearly Return    252\n",
              "50-Day MA         49\n",
              "200-Day MA       199\n",
              "dtype: int64"
            ]
          },
          "execution_count": 7,
          "metadata": {},
          "output_type": "execute_result"
        }
      ],
      "source": [
        "nifty50_data.isnull().sum()"
      ]
    },
    {
      "cell_type": "code",
      "execution_count": 8,
      "metadata": {},
      "outputs": [],
      "source": [
        "nifty50_data['50-Day MA'] = nifty50_data['50-Day MA'].dropna(inplace=True)\n",
        "nifty50_data['200-Day MA'] = nifty50_data['200-Day MA'].dropna(inplace=True)"
      ]
    },
    {
      "cell_type": "code",
      "execution_count": null,
      "metadata": {
        "id": "A0Zn0syZQq3x"
      },
      "outputs": [],
      "source": []
    }
  ],
  "metadata": {
    "colab": {
      "provenance": []
    },
    "kernelspec": {
      "display_name": "Python 3",
      "name": "python3"
    },
    "language_info": {
      "codemirror_mode": {
        "name": "ipython",
        "version": 3
      },
      "file_extension": ".py",
      "mimetype": "text/x-python",
      "name": "python",
      "nbconvert_exporter": "python",
      "pygments_lexer": "ipython3",
      "version": "3.11.0"
    }
  },
  "nbformat": 4,
  "nbformat_minor": 0
}
