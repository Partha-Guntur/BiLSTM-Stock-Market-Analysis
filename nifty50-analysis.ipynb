{
  "cells": [
    {
      "cell_type": "markdown",
      "metadata": {
        "id": "cl5GmRkAvwAD"
      },
      "source": [
        "# Importing the Data"
      ]
    },
    {
      "cell_type": "code",
      "execution_count": 1,
      "metadata": {
        "colab": {
          "base_uri": "https://localhost:8080/"
        },
        "id": "eqrdzrJhRRDM",
        "outputId": "aa3df261-5f87-4d74-fbf7-cabdac91d186"
      },
      "outputs": [
        {
          "name": "stdout",
          "output_type": "stream",
          "text": [
            "[*********************100%%**********************]  1 of 1 completed\n"
          ]
        }
      ],
      "source": [
        "import pandas as pd\n",
        "import yfinance as yf\n",
        "import matplotlib.pyplot as plt\n",
        "\n",
        "# Fetch historical market data for the last 5 years\n",
        "nifty50_data = yf.download(\"^NSEI\", period=\"5y\")"
      ]
    },
    {
      "cell_type": "code",
      "execution_count": 2,
      "metadata": {},
      "outputs": [],
      "source": [
        "Bin_Yearly = nifty50_data['Adj Close'].pct_change(periods=252) * 100\n",
        "Bin50_Day = nifty50_data['Adj Close'].rolling(window=50).mean()\n",
        "Bin200_Day = nifty50_data['Adj Close'].rolling(window=200).mean()"
      ]
    },
    {
      "cell_type": "code",
      "execution_count": 3,
      "metadata": {
        "colab": {
          "base_uri": "https://localhost:8080/",
          "height": 564
        },
        "id": "y7cBc_7nscBT",
        "outputId": "1f8f38c2-b6a8-463e-b84a-473928af4994"
      },
      "outputs": [],
      "source": [
        "# Perform a simple analysis - plot the closing prices over time\n",
        "plt.figure(figsize=(12, 6))\n",
        "plt.plot(nifty50_data.index, nifty50_data['Close'], label='Nifty50 Closing Price')\n",
        "plt.title('Nifty50 Closing Prices Over Last 5 Years')\n",
        "plt.xlabel('Date')\n",
        "plt.ylabel('Closing Price (INR)')\n",
        "plt.legend()\n",
        "plt.grid(True)\n",
        "plt.show()"
      ]
    },
    {
      "cell_type": "code",
      "execution_count": 4,
      "metadata": {
        "colab": {
          "base_uri": "https://localhost:8080/",
          "height": 564
        },
        "id": "lASO_VI2GM9f",
        "outputId": "c0df0cee-9654-4a2d-c098-78d65accdb40"
      },
      "outputs": [],
      "source": [
        "# Moving Average Graph\n",
        "\n",
        "plt.figure(figsize=(12, 6))\n",
        "plt.plot(nifty50_data.index, nifty50_data['Close'], label='Nifty50 Closing Price')\n",
        "plt.plot(nifty50_data.index, nifty50_data['50-Day MA'], label='50-Day Moving Average')\n",
        "plt.plot(nifty50_data.index, nifty50_data['200-Day MA'], label='200-Day Moving Average')\n",
        "plt.title('Nifty50 Closing Prices with 50-Day and 200-Day Moving Averages')\n",
        "plt.xlabel('Date')\n",
        "plt.ylabel('Closing Price (INR)')\n",
        "plt.legend()\n",
        "plt.grid(True)\n",
        "plt.show()"
      ]
    },
    {
      "cell_type": "code",
      "execution_count": 5,
      "metadata": {},
      "outputs": [],
      "source": [
        "# Yearly Returns Graph\n",
        "\n",
        "plt.figure(figsize=(12, 6))\n",
        "plt.plot(nifty50_data.index, nifty50_data['Yearly Return'], label='Nifty50 Yearly Return')\n",
        "plt.title('Nifty50 Yearly Returns Over Last 5 Years')\n",
        "plt.xlabel('Date')\n",
        "plt.ylabel('Yearly Return (%)')\n",
        "plt.legend()\n",
        "plt.grid(True)\n",
        "plt.show()"
      ]
    },
    {
      "cell_type": "markdown",
      "metadata": {
        "id": "T_tZOJMbvqIi"
      },
      "source": [
        "## Cleaning and Pre processing"
      ]
    },
    {
      "cell_type": "code",
      "execution_count": 6,
      "metadata": {
        "id": "bMd6BuFot2xY"
      },
      "outputs": [],
      "source": [
        "if 'Dividends' in nifty50_data.columns and 'Stock Splits' in nifty50_data.columns:\n",
        "    nifty50_data = nifty50_data.drop(columns=['Dividends', 'Stock Splits', 'Close'])"
      ]
    },
    {
      "cell_type": "code",
      "execution_count": 7,
      "metadata": {
        "colab": {
          "base_uri": "https://localhost:8080/"
        },
        "id": "NC56cnJ2xUyn",
        "outputId": "6930091d-5c16-4f85-ce5a-25f96a35a3ce"
      },
      "outputs": [
        {
          "data": {
            "text/plain": [
              "Open         0\n",
              "High         0\n",
              "Low          0\n",
              "Close        0\n",
              "Adj Close    0\n",
              "Volume       0\n",
              "dtype: int64"
            ]
          },
          "execution_count": 7,
          "metadata": {},
          "output_type": "execute_result"
        }
      ],
      "source": [
        "nifty50_data.isnull().sum()"
      ]
    },
    {
      "cell_type": "code",
      "execution_count": 8,
      "metadata": {},
      "outputs": [],
      "source": [
        "nifty50_data.drop(columns=['Close'], inplace=True)"
      ]
    },
    {
      "cell_type": "code",
      "execution_count": 9,
      "metadata": {},
      "outputs": [],
      "source": [
        "# nifty50_data = nifty50_data.drop(columns=['50-Day MA', '200-Day MA', 'Yearly Return'])\n",
        "\n",
        "# nifty50_data.fillna({\n",
        "#     '50-Day MA': nifty50_data['50-Day MA'].median(),\n",
        "#     '200-Day MA': nifty50_data['200-Day MA'].median(),\n",
        "#     'Yearly Return': nifty50_data['Yearly Return'].median()\n",
        "# }, inplace=True)\n"
      ]
    },
    {
      "cell_type": "markdown",
      "metadata": {},
      "source": [
        "Creating 3 bins, 50-Day Average, 200-Day Average, Yearly-Average"
      ]
    },
    {
      "cell_type": "code",
      "execution_count": 10,
      "metadata": {},
      "outputs": [],
      "source": [
        "Bin50_Day.fillna(Bin50_Day.mode()[0], inplace=True)\n",
        "Bin200_Day.fillna(Bin200_Day.mode()[0], inplace=True)\n",
        "Bin_Yearly.fillna(Bin_Yearly.mode()[0], inplace=True)"
      ]
    },
    {
      "cell_type": "code",
      "execution_count": 11,
      "metadata": {},
      "outputs": [],
      "source": [
        "def showIndexGraphs():\n",
        "    fig, axes = plt.subplots(nrows=2, ncols=1, figsize=(5, 5))\n",
        "    \n",
        "    # Plotting the Histogram\n",
        "    axes[0].plot(Bin50_Day, label='50-Day MA', color='orange')\n",
        "    axes[0].plot(Bin200_Day, label='200-Day MA', color='blue')\n",
        "    axes[0].set_title('20-Day & 50-DayMoving Average Trend Line')\n",
        "    axes[0].set_ylabel('Year')\n",
        "    axes[0].set_xlabel('Value')\n",
        "    axes[0].legend()\n",
        "    axes[0].grid(True)\n",
        "\n",
        "    axes[1].plot(Bin_Yearly)\n",
        "    axes[1].set_title('Yearly Returns Trend Line')\n",
        "    axes[0].set_xlabel('Year')\n",
        "    axes[1].set_ylabel('Returns %')\n",
        "    axes[1].grid(True)\n",
        "    # Adjust layout to prevent overlap\n",
        "    plt.tight_layout()\n",
        "    plt.show()\n"
      ]
    },
    {
      "cell_type": "code",
      "execution_count": 12,
      "metadata": {},
      "outputs": [
        {
          "data": {
            "image/png": "[encoded data removed]",
            "text/plain": [
              "<Figure size 500x500 with 2 Axes>"
            ]
          },
          "metadata": {},
          "output_type": "display_data"
        }
      ],
      "source": [
        "showIndexGraphs()"
      ]
    },
    {
      "cell_type": "code",
      "execution_count": 13,
      "metadata": {},
      "outputs": [
        {
          "data": {
            "text/html": [
              "<div>\n",
              "<style scoped>\n",
              "    .dataframe tbody tr th:only-of-type {\n",
              "        vertical-align: middle;\n",
              "    }\n",
              "\n",
              "    .dataframe tbody tr th {\n",
              "        vertical-align: top;\n",
              "    }\n",
              "\n",
              "    .dataframe thead th {\n",
              "        text-align: right;\n",
              "    }\n",
              "</style>\n",
              "<table border=\"1\" class=\"dataframe\">\n",
              "  <thead>\n",
              "    <tr style=\"text-align: right;\">\n",
              "      <th></th>\n",
              "      <th>Open</th>\n",
              "      <th>High</th>\n",
              "      <th>Low</th>\n",
              "      <th>Adj Close</th>\n",
              "      <th>Volume</th>\n",
              "    </tr>\n",
              "    <tr>\n",
              "      <th>Date</th>\n",
              "      <th></th>\n",
              "      <th></th>\n",
              "      <th></th>\n",
              "      <th></th>\n",
              "      <th></th>\n",
              "    </tr>\n",
              "  </thead>\n",
              "  <tbody>\n",
              "    <tr>\n",
              "      <th>2019-06-18</th>\n",
              "      <td>11677.049805</td>\n",
              "      <td>11727.200195</td>\n",
              "      <td>11641.150391</td>\n",
              "      <td>11691.500000</td>\n",
              "      <td>365500</td>\n",
              "    </tr>\n",
              "    <tr>\n",
              "      <th>2019-06-19</th>\n",
              "      <td>11744.450195</td>\n",
              "      <td>11802.500000</td>\n",
              "      <td>11625.099609</td>\n",
              "      <td>11691.450195</td>\n",
              "      <td>446900</td>\n",
              "    </tr>\n",
              "    <tr>\n",
              "      <th>2019-06-20</th>\n",
              "      <td>11653.650391</td>\n",
              "      <td>11843.500000</td>\n",
              "      <td>11635.049805</td>\n",
              "      <td>11831.750000</td>\n",
              "      <td>442000</td>\n",
              "    </tr>\n",
              "    <tr>\n",
              "      <th>2019-06-21</th>\n",
              "      <td>11827.599609</td>\n",
              "      <td>11827.950195</td>\n",
              "      <td>11705.099609</td>\n",
              "      <td>11724.099609</td>\n",
              "      <td>468400</td>\n",
              "    </tr>\n",
              "    <tr>\n",
              "      <th>2019-06-24</th>\n",
              "      <td>11725.799805</td>\n",
              "      <td>11754.000000</td>\n",
              "      <td>11670.200195</td>\n",
              "      <td>11699.650391</td>\n",
              "      <td>277600</td>\n",
              "    </tr>\n",
              "  </tbody>\n",
              "</table>\n",
              "</div>"
            ],
            "text/plain": [
              "                    Open          High           Low     Adj Close  Volume\n",
              "Date                                                                      \n",
              "2019-06-18  11677.049805  11727.200195  11641.150391  11691.500000  365500\n",
              "2019-06-19  11744.450195  11802.500000  11625.099609  11691.450195  446900\n",
              "2019-06-20  11653.650391  11843.500000  11635.049805  11831.750000  442000\n",
              "2019-06-21  11827.599609  11827.950195  11705.099609  11724.099609  468400\n",
              "2019-06-24  11725.799805  11754.000000  11670.200195  11699.650391  277600"
            ]
          },
          "execution_count": 13,
          "metadata": {},
          "output_type": "execute_result"
        }
      ],
      "source": [
        "nifty50_data.head()"
      ]
    },
    {
      "cell_type": "markdown",
      "metadata": {},
      "source": [
        "Normalizing the Dataset"
      ]
    },
    {
      "cell_type": "code",
      "execution_count": 14,
      "metadata": {},
      "outputs": [],
      "source": [
        "import numpy as np\n",
        "\n",
        "nifty_open_scaled = (nifty50_data['Open'] - np.min(nifty50_data['Open'])) / (np.max(nifty50_data['Open']) - np.min(nifty50_data['Open']))\n",
        "nifty_adjclose_scaled = (nifty50_data['Adj Close'] - np.min(nifty50_data['Adj Close'])) / (np.max(nifty50_data['Adj Close']) - np.min(nifty50_data['Adj Close']))\n",
        "nifty_high_scaled = (nifty50_data['High'] - np.min(nifty50_data['High'])) / (np.max(nifty50_data['High']) - np.min(nifty50_data['High']))\n",
        "nifty_low_scaled = (nifty50_data['Low'] - np.min(nifty50_data['Low'])) / (np.max(nifty50_data['Low']) - np.min(nifty50_data['Low']))\n",
        "nifty_volume_scaled = (nifty50_data['Volume'] - np.min(nifty50_data['Volume'])) / (np.max(nifty50_data['Volume']) - np.min(nifty50_data['Volume']))\n"
      ]
    },
    {
      "cell_type": "code",
      "execution_count": 15,
      "metadata": {},
      "outputs": [],
      "source": [
        "nifty50_data_df = pd.DataFrame({'open_scaled': nifty_open_scaled, 'high_scaled': nifty_high_scaled, \n",
        "                            'adj_close_scaled': nifty_adjclose_scaled, 'low_scaled': nifty_low_scaled,\n",
        "                              'volume_scaled': nifty_volume_scaled})"
      ]
    },
    {
      "cell_type": "code",
      "execution_count": 16,
      "metadata": {},
      "outputs": [
        {
          "data": {
            "text/html": [
              "<div>\n",
              "<style scoped>\n",
              "    .dataframe tbody tr th:only-of-type {\n",
              "        vertical-align: middle;\n",
              "    }\n",
              "\n",
              "    .dataframe tbody tr th {\n",
              "        vertical-align: top;\n",
              "    }\n",
              "\n",
              "    .dataframe thead th {\n",
              "        text-align: right;\n",
              "    }\n",
              "</style>\n",
              "<table border=\"1\" class=\"dataframe\">\n",
              "  <thead>\n",
              "    <tr style=\"text-align: right;\">\n",
              "      <th></th>\n",
              "      <th>open_scaled</th>\n",
              "      <th>high_scaled</th>\n",
              "      <th>adj_close_scaled</th>\n",
              "      <th>low_scaled</th>\n",
              "      <th>volume_scaled</th>\n",
              "    </tr>\n",
              "    <tr>\n",
              "      <th>Date</th>\n",
              "      <th></th>\n",
              "      <th></th>\n",
              "      <th></th>\n",
              "      <th></th>\n",
              "      <th></th>\n",
              "    </tr>\n",
              "  </thead>\n",
              "  <tbody>\n",
              "    <tr>\n",
              "      <th>2019-06-18</th>\n",
              "      <td>0.248926</td>\n",
              "      <td>0.237436</td>\n",
              "      <td>0.256224</td>\n",
              "      <td>0.258312</td>\n",
              "      <td>0.201822</td>\n",
              "    </tr>\n",
              "    <tr>\n",
              "      <th>2019-06-19</th>\n",
              "      <td>0.253182</td>\n",
              "      <td>0.242281</td>\n",
              "      <td>0.256221</td>\n",
              "      <td>0.257308</td>\n",
              "      <td>0.246770</td>\n",
              "    </tr>\n",
              "    <tr>\n",
              "      <th>2019-06-20</th>\n",
              "      <td>0.247448</td>\n",
              "      <td>0.244919</td>\n",
              "      <td>0.265029</td>\n",
              "      <td>0.257931</td>\n",
              "      <td>0.244064</td>\n",
              "    </tr>\n",
              "    <tr>\n",
              "      <th>2019-06-21</th>\n",
              "      <td>0.258433</td>\n",
              "      <td>0.243918</td>\n",
              "      <td>0.258271</td>\n",
              "      <td>0.262312</td>\n",
              "      <td>0.258642</td>\n",
              "    </tr>\n",
              "    <tr>\n",
              "      <th>2019-06-24</th>\n",
              "      <td>0.252004</td>\n",
              "      <td>0.239160</td>\n",
              "      <td>0.256736</td>\n",
              "      <td>0.260129</td>\n",
              "      <td>0.153285</td>\n",
              "    </tr>\n",
              "    <tr>\n",
              "      <th>...</th>\n",
              "      <td>...</td>\n",
              "      <td>...</td>\n",
              "      <td>...</td>\n",
              "      <td>...</td>\n",
              "      <td>...</td>\n",
              "    </tr>\n",
              "    <tr>\n",
              "      <th>2024-06-11</th>\n",
              "      <td>0.981873</td>\n",
              "      <td>0.987801</td>\n",
              "      <td>0.982808</td>\n",
              "      <td>0.981671</td>\n",
              "      <td>0.168526</td>\n",
              "    </tr>\n",
              "    <tr>\n",
              "      <th>2024-06-12</th>\n",
              "      <td>0.985706</td>\n",
              "      <td>0.991179</td>\n",
              "      <td>0.986455</td>\n",
              "      <td>0.987257</td>\n",
              "      <td>0.163225</td>\n",
              "    </tr>\n",
              "    <tr>\n",
              "      <th>2024-06-13</th>\n",
              "      <td>0.994326</td>\n",
              "      <td>0.993695</td>\n",
              "      <td>0.991223</td>\n",
              "      <td>0.990881</td>\n",
              "      <td>0.148150</td>\n",
              "    </tr>\n",
              "    <tr>\n",
              "      <th>2024-06-14</th>\n",
              "      <td>0.993316</td>\n",
              "      <td>0.994296</td>\n",
              "      <td>0.995411</td>\n",
              "      <td>0.989652</td>\n",
              "      <td>0.123192</td>\n",
              "    </tr>\n",
              "    <tr>\n",
              "      <th>2024-06-18</th>\n",
              "      <td>1.000000</td>\n",
              "      <td>1.000000</td>\n",
              "      <td>1.000000</td>\n",
              "      <td>1.000000</td>\n",
              "      <td>0.000000</td>\n",
              "    </tr>\n",
              "  </tbody>\n",
              "</table>\n",
              "<p>1234 rows × 5 columns</p>\n",
              "</div>"
            ],
            "text/plain": [
              "            open_scaled  high_scaled  adj_close_scaled  low_scaled  \\\n",
              "Date                                                                 \n",
              "2019-06-18     0.248926     0.237436          0.256224    0.258312   \n",
              "2019-06-19     0.253182     0.242281          0.256221    0.257308   \n",
              "2019-06-20     0.247448     0.244919          0.265029    0.257931   \n",
              "2019-06-21     0.258433     0.243918          0.258271    0.262312   \n",
              "2019-06-24     0.252004     0.239160          0.256736    0.260129   \n",
              "...                 ...          ...               ...         ...   \n",
              "2024-06-11     0.981873     0.987801          0.982808    0.981671   \n",
              "2024-06-12     0.985706     0.991179          0.986455    0.987257   \n",
              "2024-06-13     0.994326     0.993695          0.991223    0.990881   \n",
              "2024-06-14     0.993316     0.994296          0.995411    0.989652   \n",
              "2024-06-18     1.000000     1.000000          1.000000    1.000000   \n",
              "\n",
              "            volume_scaled  \n",
              "Date                       \n",
              "2019-06-18       0.201822  \n",
              "2019-06-19       0.246770  \n",
              "2019-06-20       0.244064  \n",
              "2019-06-21       0.258642  \n",
              "2019-06-24       0.153285  \n",
              "...                   ...  \n",
              "2024-06-11       0.168526  \n",
              "2024-06-12       0.163225  \n",
              "2024-06-13       0.148150  \n",
              "2024-06-14       0.123192  \n",
              "2024-06-18       0.000000  \n",
              "\n",
              "[1234 rows x 5 columns]"
            ]
          },
          "execution_count": 16,
          "metadata": {},
          "output_type": "execute_result"
        }
      ],
      "source": [
        "nifty50_data_df"
      ]
    },
    {
      "cell_type": "markdown",
      "metadata": {},
      "source": []
    },
    {
      "cell_type": "code",
      "execution_count": null,
      "metadata": {},
      "outputs": [],
      "source": []
    }
  ],
  "metadata": {
    "colab": {
      "provenance": []
    },
    "kernelspec": {
      "display_name": "Python 3",
      "name": "python3"
    },
    "language_info": {
      "codemirror_mode": {
        "name": "ipython",
        "version": 3
      },
      "file_extension": ".py",
      "mimetype": "text/x-python",
      "name": "python",
      "nbconvert_exporter": "python",
      "pygments_lexer": "ipython3",
      "version": "3.11.0"
    }
  },
  "nbformat": 4,
  "nbformat_minor": 0
}
